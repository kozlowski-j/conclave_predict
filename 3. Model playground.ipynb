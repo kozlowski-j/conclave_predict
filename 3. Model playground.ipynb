{
 "cells": [
  {
   "cell_type": "markdown",
   "metadata": {},
   "source": [
    "# Notebook to play around with data and models "
   ]
  },
  {
   "cell_type": "code",
   "execution_count": 1,
   "metadata": {},
   "outputs": [],
   "source": [
    "import numpy as np\n",
    "import pandas as pd\n",
    "from sklearn.preprocessing import StandardScaler\n",
    "from sklearn.model_selection import StratifiedKFold, ShuffleSplit\n",
    "from sklearn.linear_model import LogisticRegression\n",
    "from sklearn.ensemble import GradientBoostingClassifier"
   ]
  },
  {
   "cell_type": "code",
   "execution_count": 2,
   "metadata": {},
   "outputs": [],
   "source": [
    "df = pd.read_pickle('Data/conclave_participants_features.pkl')"
   ]
  },
  {
   "cell_type": "code",
   "execution_count": 3,
   "metadata": {},
   "outputs": [],
   "source": [
    "df_living = pd.read_pickle('Data/living_participants.pkl')"
   ]
  },
  {
   "cell_type": "code",
   "execution_count": 12,
   "metadata": {},
   "outputs": [],
   "source": [
    "def fit_model_cv(data, model, split_col, scale_data=False):\n",
    "    \n",
    "    # Copy data and exclude retired cardinals.\n",
    "    df = data.copy()\n",
    "    df = df.loc[df['Emeritus']==0]\n",
    "    \n",
    "    for conclave in df[split_col].unique():\n",
    "        print(conclave)\n",
    "        # Get data for one conclave.\n",
    "        conclave_df = df.loc[df[split_col]==conclave].copy()\n",
    "        \n",
    "        # Select elected pope record and separate it from train set.\n",
    "        elected_pope = conclave_df.loc[df['Elected']==1] \n",
    "        conclave_df.drop(elected_pope.index, inplace=True)\n",
    "        \n",
    "        # Split folds.\n",
    "        spliter = ShuffleSplit(n_splits=100, test_size=0.7)\n",
    "        scaler = StandardScaler()\n",
    "        \n",
    "        for train_index, test_index in spliter.split(conclave_df):\n",
    "#             print(\"TRAIN:\", train_index, \"TEST:\", test_index)\n",
    "            \n",
    "            train_df = conclave_df.iloc[train_index, :]\n",
    "            train_df = train_df.append(elected_pope)\n",
    "                        \n",
    "            X = train_df.drop(columns=['Elected', split_col, 'Name']).values\n",
    "            y = train_df['Elected'].values\n",
    "            \n",
    "            if scale_data == True:\n",
    "                X_scaled = scaler.fit_transform(X)\n",
    "                model.fit(X_scaled, y)\n",
    "            else:\n",
    "                model.fit(X, y)\n",
    "        \n",
    "    return model"
   ]
  },
  {
   "cell_type": "code",
   "execution_count": null,
   "metadata": {},
   "outputs": [],
   "source": []
  },
  {
   "cell_type": "markdown",
   "metadata": {},
   "source": [
    "### Prepare test data, as if conclave were to take place in July 2020"
   ]
  },
  {
   "cell_type": "code",
   "execution_count": 6,
   "metadata": {},
   "outputs": [
    {
     "data": {
      "text/plain": [
       "datetime.datetime(2020, 7, 1, 0, 0)"
      ]
     },
     "execution_count": 6,
     "metadata": {},
     "output_type": "execute_result"
    }
   ],
   "source": [
    "from datetime import datetime, timedelta\n",
    "\n",
    "datetime(2020, 7, 1)"
   ]
  },
  {
   "cell_type": "code",
   "execution_count": 7,
   "metadata": {},
   "outputs": [
    {
     "data": {
      "text/html": [
       "<div>\n",
       "<style scoped>\n",
       "    .dataframe tbody tr th:only-of-type {\n",
       "        vertical-align: middle;\n",
       "    }\n",
       "\n",
       "    .dataframe tbody tr th {\n",
       "        vertical-align: top;\n",
       "    }\n",
       "\n",
       "    .dataframe thead th {\n",
       "        text-align: right;\n",
       "    }\n",
       "</style>\n",
       "<table border=\"1\" class=\"dataframe\">\n",
       "  <thead>\n",
       "    <tr style=\"text-align: right;\">\n",
       "      <th></th>\n",
       "      <th>Name</th>\n",
       "      <th>Born</th>\n",
       "      <th>Consistory</th>\n",
       "      <th>CB</th>\n",
       "      <th>CD</th>\n",
       "      <th>CP</th>\n",
       "      <th>Italian</th>\n",
       "      <th>Emeritus</th>\n",
       "      <th>Archbishop</th>\n",
       "      <th>Other curia</th>\n",
       "      <th>Prefect</th>\n",
       "      <th>Age_at_conclave</th>\n",
       "      <th>Card_seniority</th>\n",
       "    </tr>\n",
       "  </thead>\n",
       "  <tbody>\n",
       "    <tr>\n",
       "      <th>0</th>\n",
       "      <td>Leonardo Sandri</td>\n",
       "      <td>1943-11-18</td>\n",
       "      <td>2007-11-24</td>\n",
       "      <td>1</td>\n",
       "      <td>0</td>\n",
       "      <td>0</td>\n",
       "      <td>0</td>\n",
       "      <td>0</td>\n",
       "      <td>0</td>\n",
       "      <td>0</td>\n",
       "      <td>1</td>\n",
       "      <td>76</td>\n",
       "      <td>932</td>\n",
       "    </tr>\n",
       "  </tbody>\n",
       "</table>\n",
       "</div>"
      ],
      "text/plain": [
       "              Name       Born Consistory  CB  CD  CP  Italian  Emeritus  \\\n",
       "0  Leonardo Sandri 1943-11-18 2007-11-24   1   0   0        0         0   \n",
       "\n",
       "   Archbishop  Other curia  Prefect  Age_at_conclave  Card_seniority  \n",
       "0           0            0        1               76             932  "
      ]
     },
     "execution_count": 7,
     "metadata": {},
     "output_type": "execute_result"
    }
   ],
   "source": [
    "assumed_conclave_date = datetime(2020, 7, 1)\n",
    "df_living['Age_at_conclave'] = ((assumed_conclave_date - df_living['Born']) / timedelta(days=365)).astype(int)\n",
    "df_living['Card_seniority'] = ((assumed_conclave_date - df_living['Born']) / timedelta(days=30)).astype(int)\n",
    "df_living.head(1)"
   ]
  },
  {
   "cell_type": "code",
   "execution_count": 8,
   "metadata": {},
   "outputs": [
    {
     "data": {
      "text/html": [
       "<div>\n",
       "<style scoped>\n",
       "    .dataframe tbody tr th:only-of-type {\n",
       "        vertical-align: middle;\n",
       "    }\n",
       "\n",
       "    .dataframe tbody tr th {\n",
       "        vertical-align: top;\n",
       "    }\n",
       "\n",
       "    .dataframe thead th {\n",
       "        text-align: right;\n",
       "    }\n",
       "</style>\n",
       "<table border=\"1\" class=\"dataframe\">\n",
       "  <thead>\n",
       "    <tr style=\"text-align: right;\">\n",
       "      <th></th>\n",
       "      <th>Italian</th>\n",
       "      <th>Emeritus</th>\n",
       "      <th>Age_at_conclave</th>\n",
       "      <th>Card_seniority</th>\n",
       "      <th>Archbishop</th>\n",
       "      <th>Other_curia</th>\n",
       "      <th>Prefect</th>\n",
       "      <th>CB</th>\n",
       "      <th>CD</th>\n",
       "      <th>CP</th>\n",
       "    </tr>\n",
       "  </thead>\n",
       "  <tbody>\n",
       "    <tr>\n",
       "      <th>0</th>\n",
       "      <td>0</td>\n",
       "      <td>0</td>\n",
       "      <td>76</td>\n",
       "      <td>932</td>\n",
       "      <td>0</td>\n",
       "      <td>0</td>\n",
       "      <td>1</td>\n",
       "      <td>1</td>\n",
       "      <td>0</td>\n",
       "      <td>0</td>\n",
       "    </tr>\n",
       "  </tbody>\n",
       "</table>\n",
       "</div>"
      ],
      "text/plain": [
       "   Italian  Emeritus  Age_at_conclave  Card_seniority  Archbishop  \\\n",
       "0        0         0               76             932           0   \n",
       "\n",
       "   Other_curia  Prefect  CB  CD  CP  \n",
       "0            0        1   1   0   0  "
      ]
     },
     "execution_count": 8,
     "metadata": {},
     "output_type": "execute_result"
    }
   ],
   "source": [
    "cols_to_take = df.drop(columns=['Elected', 'conclave_year', 'Name']).columns\n",
    "\n",
    "df_living.rename(columns={'Other curia': 'Other_curia'}, inplace=True)\n",
    "df_test = df_living[cols_to_take]\n",
    "df_test.head(1)"
   ]
  },
  {
   "cell_type": "markdown",
   "metadata": {},
   "source": [
    "# Prediction\n",
    "\n",
    "a) Logistic Regression"
   ]
  },
  {
   "cell_type": "code",
   "execution_count": 15,
   "metadata": {},
   "outputs": [
    {
     "name": "stdout",
     "output_type": "stream",
     "text": [
      "1922\n",
      "1939\n",
      "1958\n",
      "1978\n",
      "2005\n",
      "2013\n"
     ]
    },
    {
     "data": {
      "text/html": [
       "<div>\n",
       "<style scoped>\n",
       "    .dataframe tbody tr th:only-of-type {\n",
       "        vertical-align: middle;\n",
       "    }\n",
       "\n",
       "    .dataframe tbody tr th {\n",
       "        vertical-align: top;\n",
       "    }\n",
       "\n",
       "    .dataframe thead th {\n",
       "        text-align: right;\n",
       "    }\n",
       "</style>\n",
       "<table border=\"1\" class=\"dataframe\">\n",
       "  <thead>\n",
       "    <tr style=\"text-align: right;\">\n",
       "      <th></th>\n",
       "      <th>Name</th>\n",
       "      <th>prediction_logreg</th>\n",
       "    </tr>\n",
       "  </thead>\n",
       "  <tbody>\n",
       "    <tr>\n",
       "      <th>33</th>\n",
       "      <td>Donald William Wuerl</td>\n",
       "      <td>0.770874</td>\n",
       "    </tr>\n",
       "    <tr>\n",
       "      <th>10</th>\n",
       "      <td>Wilfrid Fox Napier OFM</td>\n",
       "      <td>0.765739</td>\n",
       "    </tr>\n",
       "    <tr>\n",
       "      <th>14</th>\n",
       "      <td>Gabriel Zubeir Wako</td>\n",
       "      <td>0.765739</td>\n",
       "    </tr>\n",
       "    <tr>\n",
       "      <th>77</th>\n",
       "      <td>Maurice Piat CSSp</td>\n",
       "      <td>0.760525</td>\n",
       "    </tr>\n",
       "    <tr>\n",
       "      <th>56</th>\n",
       "      <td>Ricardo Ezzati Andrello SDB</td>\n",
       "      <td>0.711747</td>\n",
       "    </tr>\n",
       "  </tbody>\n",
       "</table>\n",
       "</div>"
      ],
      "text/plain": [
       "                           Name  prediction_logreg\n",
       "33         Donald William Wuerl           0.770874\n",
       "10       Wilfrid Fox Napier OFM           0.765739\n",
       "14          Gabriel Zubeir Wako           0.765739\n",
       "77            Maurice Piat CSSp           0.760525\n",
       "56  Ricardo Ezzati Andrello SDB           0.711747"
      ]
     },
     "execution_count": 15,
     "metadata": {},
     "output_type": "execute_result"
    }
   ],
   "source": [
    "logreg = LogisticRegression(warm_start=True, class_weight='balanced')\n",
    "logreg_fitted = fit_model_cv(df, model=logreg, split_col='conclave_year', scale_data=True)\n",
    "\n",
    "df_test_scaled = StandardScaler().fit_transform(df_test)\n",
    "\n",
    "y_pred_logreg = logreg_fitted.predict_proba(df_test_scaled)[:, 1]\n",
    "\n",
    "df_living['prediction_logreg'] = y_pred_logreg\n",
    "df_living[['Name', 'prediction_logreg']].sort_values(by=['prediction_logreg'], ascending=False).head()"
   ]
  },
  {
   "cell_type": "markdown",
   "metadata": {},
   "source": [
    "b) Gradient Boosting Classifier"
   ]
  },
  {
   "cell_type": "code",
   "execution_count": 16,
   "metadata": {},
   "outputs": [
    {
     "name": "stdout",
     "output_type": "stream",
     "text": [
      "1922\n",
      "1939\n",
      "1958\n",
      "1978\n",
      "2005\n",
      "2013\n"
     ]
    },
    {
     "data": {
      "text/html": [
       "<div>\n",
       "<style scoped>\n",
       "    .dataframe tbody tr th:only-of-type {\n",
       "        vertical-align: middle;\n",
       "    }\n",
       "\n",
       "    .dataframe tbody tr th {\n",
       "        vertical-align: top;\n",
       "    }\n",
       "\n",
       "    .dataframe thead th {\n",
       "        text-align: right;\n",
       "    }\n",
       "</style>\n",
       "<table border=\"1\" class=\"dataframe\">\n",
       "  <thead>\n",
       "    <tr style=\"text-align: right;\">\n",
       "      <th></th>\n",
       "      <th>Name</th>\n",
       "      <th>prediction_GBC</th>\n",
       "    </tr>\n",
       "  </thead>\n",
       "  <tbody>\n",
       "    <tr>\n",
       "      <th>0</th>\n",
       "      <td>Leonardo Sandri</td>\n",
       "      <td>0.000083</td>\n",
       "    </tr>\n",
       "    <tr>\n",
       "      <th>91</th>\n",
       "      <td>Giuseppe Petrocchi</td>\n",
       "      <td>0.000083</td>\n",
       "    </tr>\n",
       "    <tr>\n",
       "      <th>89</th>\n",
       "      <td>Pedro Ricardo Barreto Jimeno SJ</td>\n",
       "      <td>0.000083</td>\n",
       "    </tr>\n",
       "    <tr>\n",
       "      <th>88</th>\n",
       "      <td>António Augusto dos Santos Marto</td>\n",
       "      <td>0.000083</td>\n",
       "    </tr>\n",
       "    <tr>\n",
       "      <th>87</th>\n",
       "      <td>Joseph Coutts</td>\n",
       "      <td>0.000083</td>\n",
       "    </tr>\n",
       "  </tbody>\n",
       "</table>\n",
       "</div>"
      ],
      "text/plain": [
       "                                Name  prediction_GBC\n",
       "0                    Leonardo Sandri        0.000083\n",
       "91                Giuseppe Petrocchi        0.000083\n",
       "89   Pedro Ricardo Barreto Jimeno SJ        0.000083\n",
       "88  António Augusto dos Santos Marto        0.000083\n",
       "87                     Joseph Coutts        0.000083"
      ]
     },
     "execution_count": 16,
     "metadata": {},
     "output_type": "execute_result"
    }
   ],
   "source": [
    "GBC = GradientBoostingClassifier(warm_start=True)\n",
    "GBC_fitted = fit_model_cv(df, model=GBC, split_col='conclave_year')\n",
    "\n",
    "y_pred_GBC = GBC_fitted.predict_proba(df_test)[:, 1]\n",
    "\n",
    "df_living['prediction_GBC'] = y_pred_GBC\n",
    "df_living[['Name', 'prediction_GBC']].sort_values(by=['prediction_GBC'], ascending=False).head()"
   ]
  },
  {
   "cell_type": "code",
   "execution_count": null,
   "metadata": {},
   "outputs": [],
   "source": []
  }
 ],
 "metadata": {
  "kernelspec": {
   "display_name": "Python 3",
   "language": "python",
   "name": "python3"
  },
  "language_info": {
   "codemirror_mode": {
    "name": "ipython",
    "version": 3
   },
   "file_extension": ".py",
   "mimetype": "text/x-python",
   "name": "python",
   "nbconvert_exporter": "python",
   "pygments_lexer": "ipython3",
   "version": "3.6.5"
  }
 },
 "nbformat": 4,
 "nbformat_minor": 4
}
